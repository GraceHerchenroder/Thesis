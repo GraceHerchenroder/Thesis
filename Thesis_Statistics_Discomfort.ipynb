{
  "nbformat": 4,
  "nbformat_minor": 0,
  "metadata": {
    "colab": {
      "provenance": [],
      "authorship_tag": "ABX9TyN/DUqAlBNMV0c/xyqolChV",
      "include_colab_link": true
    },
    "kernelspec": {
      "name": "python3",
      "display_name": "Python 3"
    },
    "language_info": {
      "name": "python"
    }
  },
  "cells": [
    {
      "cell_type": "markdown",
      "metadata": {
        "id": "view-in-github",
        "colab_type": "text"
      },
      "source": [
        "<a href=\"https://colab.research.google.com/github/GraceHerchenroder/Thesis/blob/main/Thesis_Statistics_Discomfort.ipynb\" target=\"_parent\"><img src=\"https://colab.research.google.com/assets/colab-badge.svg\" alt=\"Open In Colab\"/></a>"
      ]
    },
    {
      "cell_type": "code",
      "execution_count": 30,
      "metadata": {
        "id": "Ua12s8KQgJ40"
      },
      "outputs": [],
      "source": [
        "# Importing libraries\n",
        "import pandas as pd\n",
        "import numpy as np\n",
        "import statsmodels.api as sm\n",
        "from statsmodels.formula.api import ols\n",
        "from scipy import stats\n",
        "from statsmodels.stats.multitest import multipletests"
      ]
    },
    {
      "cell_type": "code",
      "source": [
        "# Performing two-way ANOVA\n",
        "def statAnova(kinematic_data):\n",
        "  dataframe = pd.DataFrame({'Gender': np.repeat(['women', 'men'], 5),\n",
        "                          'Size': ['small', 'small', 'small', 'large', 'large', 'small', 'small', 'small', 'large', 'large'],\n",
        "                          'Kinematic': kinematic_data[0][:]})\n",
        "  model = ols('Kinematic ~ C(Gender) + C(Size) + C(Gender):C(Size)', data=dataframe).fit()\n",
        "  result = sm.stats.anova_lm(model, typ=2)\n",
        "  return result"
      ],
      "metadata": {
        "id": "H5fePVji7KQZ"
      },
      "execution_count": 31,
      "outputs": []
    },
    {
      "cell_type": "code",
      "source": [
        "# Follow Up analysis: Not Significant\n",
        "def notSignificant(kinematic_data):\n",
        "  men_data = kinematic_data[0][5:]\n",
        "  women_data = kinematic_data[0][:5]\n",
        "  small_data = np.concatenate((kinematic_data[0][:3], kinematic_data[0][5:8]), axis=0)\n",
        "  large_data = np.concatenate((kinematic_data[0][3:5], kinematic_data[0][8:]), axis=0)\n",
        "\n",
        "  [stat_gender, p_gender] = stats.ttest_ind(men_data, women_data);\n",
        "  [stat_size, p_size] = stats.ttest_ind(small_data, large_data);\n",
        "  return [p_gender, p_size]"
      ],
      "metadata": {
        "id": "niEiVtBKAmsZ"
      },
      "execution_count": 32,
      "outputs": []
    },
    {
      "cell_type": "code",
      "source": [
        "# Follow Up analysis: Significant\n",
        "def significant(kinematic_data, p_values):\n",
        "  [reject, p_corrected] = multipletests(p_values, method = 'bonferroni')\n",
        "  small_men_data = kinematic_data[0][8:]\n",
        "  large_men_data = kinematic_data[0][5:8]\n",
        "  small_women_data = kinematic_data[0][:3]\n",
        "  large_women_data = kinematic_data[0][3:5]\n",
        "\n",
        "  [stat_small, p_small] = stats.ttest_ind(small_men_data, small_women_data);\n",
        "  [stat_large, p_large] = stats.ttest_ind(large_men_data, large_women_data);\n",
        "  [stat_women, p_women] = stats.ttest_ind(small_women_data, large_women_data);\n",
        "  [stat_men, p_men] = stats.ttest_ind(small_men_data, large_men_data);\n",
        "\n",
        "  return [p_corrected, p_small, p_large, p_women, p_men]"
      ],
      "metadata": {
        "id": "CFEdhItadUKV"
      },
      "execution_count": 33,
      "outputs": []
    },
    {
      "cell_type": "code",
      "source": [
        "# Walk\n",
        "# Max\n",
        "url_max_walk_discomfort = 'https://raw.githubusercontent.com/GraceHerchenroder/Thesis/main/max_walk_discomfort.csv'\n",
        "max_walk_discomfort = pd.read_csv(url_max_walk_discomfort, header = None)\n",
        "\n",
        "print('Maximum: Walking')\n",
        "result_max_walk_disc = statAnova(max_walk_discomfort)\n",
        "print(result_max_walk_disc)\n",
        "if result_max_walk_disc['PR(>F)'][2] > 0.05:\n",
        "  result = notSignificant(max_walk_discomfort)\n",
        "  print('Gender: ', result[0], ', Size: ', result[1])\n",
        "  if result[0] < 0.05:\n",
        "    print('Gender: Significant')\n",
        "  if result[1] < 0.05:\n",
        "    print('Size: Significant')\n",
        "elif result_max_walk_disc['PR(>F)'][2] < 0.05:\n",
        "  result = significant(max_walk_discomfort, result_max_walk_disc['PR(>F)'])\n",
        "  print('Small: ', result[1], ', Large: ', result[2], ', Women: ', result[3], ', Men: ', result[4])\n",
        "  if result[1] < result[0]:\n",
        "    print('Small: Significant')\n",
        "  if result[2] < result[0]:\n",
        "    print('Large: Significant')\n",
        "  if result[3] < result[0]:\n",
        "    print('Women: Significant')\n",
        "  if result[4] < result[0]:\n",
        "    print('Men: Significant')\n",
        "print('')\n",
        "\n",
        "# Mean\n",
        "url_mean_walk_discomfort = 'https://raw.githubusercontent.com/GraceHerchenroder/Thesis/main/mean_walk_discomfort.csv'\n",
        "mean_walk_discomfort = pd.read_csv(url_mean_walk_discomfort, header = None)\n",
        "\n",
        "print('Mean: Walking')\n",
        "result_mean_walk_disc = statAnova(mean_walk_discomfort)\n",
        "print(result_mean_walk_disc)\n",
        "if result_mean_walk_disc['PR(>F)'][2] > 0.05:\n",
        "  result = notSignificant(mean_walk_discomfort)\n",
        "  print('Gender: ', result[0], ', Size: ', result[1])\n",
        "  if result[0] < 0.05:\n",
        "    print('Gender: Significant')\n",
        "  if result[1] < 0.05:\n",
        "    print('Size: Significant')\n",
        "elif result_mean_walk_disc['PR(>F)'][2] < 0.05:\n",
        "  result = significant(mean_walk_discomfort, result_mean_walk_disc['PR(>F)'])\n",
        "  print('Small: ', result[1], ', Large: ', result[2], ', Women: ', result[3], ', Men: ', result[4])\n",
        "  if result[1] < result[0]:\n",
        "    print('Small: Significant')\n",
        "  if result[2] < result[0]:\n",
        "    print('Large: Significant')\n",
        "  if result[3] < result[0]:\n",
        "    print('Women: Significant')\n",
        "  if result[4] < result[0]:\n",
        "    print('Men: Significant')\n",
        "print('')"
      ],
      "metadata": {
        "colab": {
          "base_uri": "https://localhost:8080/"
        },
        "id": "nd8zzvLB7BUG",
        "outputId": "dc9d1afe-358d-4927-8292-bc4dc9c165d4"
      },
      "execution_count": 34,
      "outputs": [
        {
          "output_type": "stream",
          "name": "stdout",
          "text": [
            "Maximum: Walking\n",
            "                    sum_sq   df     F    PR(>F)\n",
            "C(Gender)          0.30625  1.0  2.94  0.137236\n",
            "C(Size)            0.03750  1.0  0.36  0.570456\n",
            "C(Gender):C(Size)  0.03750  1.0  0.36  0.570456\n",
            "Residual           0.62500  6.0   NaN       NaN\n",
            "Gender:  0.09828173303082942 , Size:  0.5930987885254617\n",
            "\n",
            "Mean: Walking\n",
            "                     sum_sq   df         F    PR(>F)\n",
            "C(Gender)          0.136111  1.0  2.603690  0.157742\n",
            "C(Size)            0.005671  1.0  0.108487  0.753067\n",
            "C(Gender):C(Size)  0.005671  1.0  0.108487  0.753067\n",
            "Residual           0.313657  6.0       NaN       NaN\n",
            "Gender:  0.10457021873738787 , Size:  0.760364236337581\n",
            "\n"
          ]
        },
        {
          "output_type": "stream",
          "name": "stderr",
          "text": [
            "/usr/local/lib/python3.10/dist-packages/scipy/stats/_axis_nan_policy.py:523: RuntimeWarning: Precision loss occurred in moment calculation due to catastrophic cancellation. This occurs when the data are nearly identical. Results may be unreliable.\n",
            "  res = hypotest_fun_out(*samples, **kwds)\n",
            "/usr/local/lib/python3.10/dist-packages/scipy/stats/_axis_nan_policy.py:523: RuntimeWarning: Precision loss occurred in moment calculation due to catastrophic cancellation. This occurs when the data are nearly identical. Results may be unreliable.\n",
            "  res = hypotest_fun_out(*samples, **kwds)\n"
          ]
        }
      ]
    },
    {
      "cell_type": "code",
      "source": [
        "# Stand\n",
        "# Max\n",
        "url_max_stand_discomfort = 'https://raw.githubusercontent.com/GraceHerchenroder/Thesis/main/max_stand_discomfort.csv'\n",
        "max_stand_discomfort = pd.read_csv(url_max_stand_discomfort, header = None)\n",
        "\n",
        "print('Maximum: standing')\n",
        "result_max_stand_disc = statAnova(max_stand_discomfort)\n",
        "print(result_max_stand_disc)\n",
        "if result_max_stand_disc['PR(>F)'][2] > 0.05:\n",
        "  result = notSignificant(max_stand_discomfort)\n",
        "  print('Gender: ', result[0], ', Size: ', result[1])\n",
        "  if result[0] < 0.05:\n",
        "    print('Gender: Significant')\n",
        "  if result[1] < 0.05:\n",
        "    print('Size: Significant')\n",
        "elif result_max_stand_disc['PR(>F)'][2] < 0.05:\n",
        "  result = significant(max_stand_discomfort, result_max_stand_disc['PR(>F)'])\n",
        "  print('Small: ', result[1], ', Large: ', result[2], ', Women: ', result[3], ', Men: ', result[4])\n",
        "  if result[1] < result[0]:\n",
        "    print('Small: Significant')\n",
        "  if result[2] < result[0]:\n",
        "    print('Large: Significant')\n",
        "  if result[3] < result[0]:\n",
        "    print('Women: Significant')\n",
        "  if result[4] < result[0]:\n",
        "    print('Men: Significant')\n",
        "print('')\n",
        "\n",
        "# Mean\n",
        "url_mean_stand_discomfort = 'https://raw.githubusercontent.com/GraceHerchenroder/Thesis/main/mean_stand_discomfort.csv'\n",
        "mean_stand_discomfort = pd.read_csv(url_mean_stand_discomfort, header = None)\n",
        "\n",
        "print('Mean: standing')\n",
        "result_mean_stand_disc = statAnova(mean_stand_discomfort)\n",
        "print(result_mean_stand_disc)\n",
        "if result_mean_stand_disc['PR(>F)'][2] > 0.05:\n",
        "  result = notSignificant(mean_stand_discomfort)\n",
        "  print('Gender: ', result[0], ', Size: ', result[1])\n",
        "  if result[0] < 0.05:\n",
        "    print('Gender: Significant')\n",
        "  if result[1] < 0.05:\n",
        "    print('Size: Significant')\n",
        "elif result_mean_stand_disc['PR(>F)'][2] < 0.05:\n",
        "  result = significant(mean_stand_discomfort, result_mean_stand_disc['PR(>F)'])\n",
        "  print('Small: ', result[1], ', Large: ', result[2], ', Women: ', result[3], ', Men: ', result[4])\n",
        "  if result[1] < result[0]:\n",
        "    print('Small: Significant')\n",
        "  if result[2] < result[0]:\n",
        "    print('Large: Significant')\n",
        "  if result[3] < result[0]:\n",
        "    print('Women: Significant')\n",
        "  if result[4] < result[0]:\n",
        "    print('Men: Significant')\n",
        "print('')"
      ],
      "metadata": {
        "colab": {
          "base_uri": "https://localhost:8080/"
        },
        "id": "KQ_67Oq1CAcf",
        "outputId": "ae171343-ec18-42c3-c8bf-4953c7aeabda"
      },
      "execution_count": 35,
      "outputs": [
        {
          "output_type": "stream",
          "name": "stdout",
          "text": [
            "Maximum: standing\n",
            "                     sum_sq   df         F    PR(>F)\n",
            "C(Gender)          0.552250  1.0  2.202271  0.188338\n",
            "C(Size)            0.495042  1.0  1.974135  0.209612\n",
            "C(Gender):C(Size)  0.198375  1.0  0.791083  0.408016\n",
            "Residual           1.504583  6.0       NaN       NaN\n",
            "Gender:  0.19401635965148942 , Size:  0.2217094412784316\n",
            "\n",
            "Mean: standing\n",
            "                     sum_sq   df         F    PR(>F)\n",
            "C(Gender)          0.342250  1.0  1.764414  0.232364\n",
            "C(Size)            0.238560  1.0  1.229858  0.309896\n",
            "C(Gender):C(Size)  0.100042  1.0  0.515748  0.499657\n",
            "Residual           1.163843  6.0       NaN       NaN\n",
            "Gender:  0.21398221785877922 , Size:  0.30742555541472383\n",
            "\n"
          ]
        }
      ]
    },
    {
      "cell_type": "code",
      "source": [
        "# Sit\n",
        "# Max\n",
        "url_max_sit_discomfort = 'https://raw.githubusercontent.com/GraceHerchenroder/Thesis/main/max_sit_discomfort.csv'\n",
        "max_sit_discomfort = pd.read_csv(url_max_sit_discomfort, header = None)\n",
        "\n",
        "print('Maximum: siting')\n",
        "result_max_sit_disc = statAnova(max_sit_discomfort)\n",
        "print(result_max_sit_disc)\n",
        "if result_max_sit_disc['PR(>F)'][2] > 0.05:\n",
        "  result = notSignificant(max_sit_discomfort)\n",
        "  print('Gender: ', result[0], ', Size: ', result[1])\n",
        "  if result[0] < 0.05:\n",
        "    print('Gender: Significant')\n",
        "  if result[1] < 0.05:\n",
        "    print('Size: Significant')\n",
        "elif result_max_sit_disc['PR(>F)'][2] < 0.05:\n",
        "  result = significant(max_sit_discomfort, result_max_sit_disc['PR(>F)'])\n",
        "  print('Small: ', result[1], ', Large: ', result[2], ', Women: ', result[3], ', Men: ', result[4])\n",
        "  if result[1] < result[0]:\n",
        "    print('Small: Significant')\n",
        "  if result[2] < result[0]:\n",
        "    print('Large: Significant')\n",
        "  if result[3] < result[0]:\n",
        "    print('Women: Significant')\n",
        "  if result[4] < result[0]:\n",
        "    print('Men: Significant')\n",
        "print('')\n",
        "\n",
        "# Mean\n",
        "url_mean_sit_discomfort = 'https://raw.githubusercontent.com/GraceHerchenroder/Thesis/main/mean_sit_discomfort.csv'\n",
        "mean_sit_discomfort = pd.read_csv(url_mean_sit_discomfort, header = None)\n",
        "\n",
        "print('Mean: siting')\n",
        "result_mean_sit_disc = statAnova(mean_sit_discomfort)\n",
        "print(result_mean_sit_disc)\n",
        "if result_mean_sit_disc['PR(>F)'][2] > 0.05:\n",
        "  result = notSignificant(mean_sit_discomfort)\n",
        "  print('Gender: ', result[0], ', Size: ', result[1])\n",
        "  if result[0] < 0.05:\n",
        "    print('Gender: Significant')\n",
        "  if result[1] < 0.05:\n",
        "    print('Size: Significant')\n",
        "elif result_mean_sit_disc['PR(>F)'][2] < 0.05:\n",
        "  result = significant(mean_sit_discomfort, result_mean_sit_disc['PR(>F)'])\n",
        "  print('Small: ', result[1], ', Large: ', result[2], ', Women: ', result[3], ', Men: ', result[4])\n",
        "  if result[1] < result[0]:\n",
        "    print('Small: Significant')\n",
        "  if result[2] < result[0]:\n",
        "    print('Large: Significant')\n",
        "  if result[3] < result[0]:\n",
        "    print('Women: Significant')\n",
        "  if result[4] < result[0]:\n",
        "    print('Men: Significant')\n",
        "print('')"
      ],
      "metadata": {
        "colab": {
          "base_uri": "https://localhost:8080/"
        },
        "id": "hOxzvQDDCN8p",
        "outputId": "3d35e771-a527-4cc0-d8b0-6a352fc59bd7"
      },
      "execution_count": 36,
      "outputs": [
        {
          "output_type": "stream",
          "name": "stdout",
          "text": [
            "Maximum: siting\n",
            "                     sum_sq   df         F    PR(>F)\n",
            "C(Gender)          0.930250  1.0  2.099953  0.197477\n",
            "C(Size)            0.117042  1.0  0.264211  0.625617\n",
            "C(Gender):C(Size)  0.117042  1.0  0.264211  0.625617\n",
            "Residual           2.657917  6.0       NaN       NaN\n",
            "Gender:  0.14734795265522738 , Size:  0.6287192370657457\n",
            "\n"
          ]
        },
        {
          "output_type": "stream",
          "name": "stderr",
          "text": [
            "/usr/local/lib/python3.10/dist-packages/scipy/stats/_axis_nan_policy.py:523: RuntimeWarning: Precision loss occurred in moment calculation due to catastrophic cancellation. This occurs when the data are nearly identical. Results may be unreliable.\n",
            "  res = hypotest_fun_out(*samples, **kwds)\n"
          ]
        },
        {
          "output_type": "stream",
          "name": "stdout",
          "text": [
            "Mean: siting\n",
            "                     sum_sq   df         F    PR(>F)\n",
            "C(Gender)          0.367361  1.0  2.099669  0.197504\n",
            "C(Size)            0.041782  1.0  0.238809  0.642414\n",
            "C(Gender):C(Size)  0.041782  1.0  0.238809  0.642414\n",
            "Residual           1.049769  6.0       NaN       NaN\n",
            "Gender:  0.14599345684946757 , Size:  0.6449889761086276\n",
            "\n"
          ]
        },
        {
          "output_type": "stream",
          "name": "stderr",
          "text": [
            "/usr/local/lib/python3.10/dist-packages/scipy/stats/_axis_nan_policy.py:523: RuntimeWarning: Precision loss occurred in moment calculation due to catastrophic cancellation. This occurs when the data are nearly identical. Results may be unreliable.\n",
            "  res = hypotest_fun_out(*samples, **kwds)\n"
          ]
        }
      ]
    }
  ]
}